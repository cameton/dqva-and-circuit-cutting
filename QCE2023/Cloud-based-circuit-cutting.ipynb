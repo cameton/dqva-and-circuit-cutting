{
 "cells": [
  {
   "cell_type": "code",
   "execution_count": 1,
   "id": "6a234839-761f-462a-8750-6333bc2ff35a",
   "metadata": {
    "tags": []
   },
   "outputs": [],
   "source": [
    "import numpy as np\n",
    "from dataclasses import asdict\n",
    "import qiskit\n",
    "from qiskit.circuit.library import EfficientSU2\n",
    "\n",
    "from qiskit_ibm_runtime import QiskitRuntimeService, Options\n",
    "from qiskit_ibm_runtime.options import SimulatorOptions\n",
    "from quantum_serverless import QuantumServerless, get\n",
    "\n",
    "from circuit_knitting_toolbox.circuit_cutting.wire_cutting import verify\n",
    "from circuit_knitting_toolbox.circuit_cutting.wire_cutting import cut_circuit_wires\n",
    "from circuit_knitting_toolbox.circuit_cutting.wire_cutting import evaluate_subcircuits\n",
    "from circuit_knitting_toolbox.circuit_cutting.wire_cutting import reconstruct_full_distribution\n",
    "\n",
    "\n",
    "import remote_runtime\n",
    "import my_noise_models"
   ]
  },
  {
   "cell_type": "markdown",
   "id": "5cda073d-c651-4cf4-b04e-caa58333bf0b",
   "metadata": {
    "jp-MarkdownHeadingCollapsed": true,
    "tags": []
   },
   "source": [
    "# Qiskit Runtime on IBM Cloud\n",
    "The following is based on the getting started [tutorial](https://cloud.ibm.com/docs/quantum-computing?topic=quantum-computing-get-started)"
   ]
  },
  {
   "cell_type": "code",
   "execution_count": 2,
   "id": "25a227bf-145c-4f51-88f1-b1524a0e3e90",
   "metadata": {
    "tags": []
   },
   "outputs": [
    {
     "name": "stdout",
     "output_type": "stream",
     "text": [
      "[<IBMBackend('ibmq_qasm_simulator')>, <IBMBackend('simulator_stabilizer')>, <IBMBackend('simulator_mps')>, <IBMBackend('simulator_extended_stabilizer')>, <IBMBackend('simulator_statevector')>]\n",
      "[<RuntimeProgram('qasm3-runner')>, <RuntimeProgram('hello-world-89yvgl6jG5')>, <RuntimeProgram('hello-world')>, <RuntimeProgram('sampler')>, <RuntimeProgram('estimator')>]\n"
     ]
    }
   ],
   "source": [
    "service = QiskitRuntimeService()\n",
    "print(service.backends())\n",
    "print(service.programs())"
   ]
  },
  {
   "cell_type": "code",
   "execution_count": 3,
   "id": "a4230252-d7e4-48fb-90b6-af11641eb45f",
   "metadata": {
    "tags": []
   },
   "outputs": [
    {
     "name": "stdout",
     "output_type": "stream",
     "text": [
      "     ┌───────────┐┌─────────┐      ░ ┌─┐   \n",
      "q_0: ┤ Ry(theta) ├┤ Rz(phi) ├──■───░─┤M├───\n",
      "     └───────────┘└─────────┘┌─┴─┐ ░ └╥┘┌─┐\n",
      "q_1: ────────────────────────┤ X ├─░──╫─┤M├\n",
      "                             └───┘ ░  ║ └╥┘\n",
      "c: 2/═════════════════════════════════╩══╩═\n",
      "                                      0  1 \n"
     ]
    }
   ],
   "source": [
    "options = Options(optimization_level=3)\n",
    "\n",
    "# Circuit construction\n",
    "theta = qiskit.circuit.Parameter('theta')\n",
    "phi = qiskit.circuit.Parameter('phi')\n",
    "\n",
    "circuit = qiskit.QuantumCircuit(2, 2)\n",
    "circuit.ry(theta, 0)\n",
    "circuit.rz(phi, 0)\n",
    "circuit.cx(0,1)\n",
    "circuit.measure_all(add_bits=False)\n",
    "print(circuit.draw())\n",
    "\n",
    "params1 = [np.pi/4, 0]\n",
    "params2 = [np.pi/2, np.pi/2]\n",
    "params3 = [3*np.pi/4, -np.pi/3]"
   ]
  },
  {
   "cell_type": "code",
   "execution_count": 18,
   "id": "f8972423-b388-428d-a60f-85e72e03abcd",
   "metadata": {
    "tags": []
   },
   "outputs": [
    {
     "name": "stdout",
     "output_type": "stream",
     "text": [
      "SamplerResult(quasi_dists=[{0: 1.0}, {3: 0.49325, 0: 0.50675}, {3: 0.2525, 0: 0.7475}], metadata=[{'header_metadata': {}, 'shots': 4000}, {'header_metadata': {}, 'shots': 4000}, {'header_metadata': {}, 'shots': 4000}])\n"
     ]
    }
   ],
   "source": [
    "with Session(service=service, backend=\"simulator_statevector\"):\n",
    "    sampler = Sampler(options=options)\n",
    "    \n",
    "    job = sampler.run(circuits=[circuit]*3, parameter_values=[params1, params2, params3])\n",
    "    print(job.result())"
   ]
  },
  {
   "cell_type": "markdown",
   "id": "98bafa7c-ed1f-4974-9a2f-4433e25d259f",
   "metadata": {},
   "source": [
    "# Running a Quantum Serverless program on a Cloud Runtime backend"
   ]
  },
  {
   "cell_type": "markdown",
   "id": "d8ccb910-3f36-40f5-8740-c4414e36be2f",
   "metadata": {},
   "source": [
    "## Circuit cutting with quantum serverless\n",
    "An example [tutorial](https://qiskit-extensions.github.io/circuit-knitting-toolbox/tutorials/circuit_cutting/tutorial_3_cutting_with_quantum_serverless.html) combines the circuit cutting\n",
    "package with quantum serverless."
   ]
  },
  {
   "cell_type": "code",
   "execution_count": 2,
   "id": "84844846-cdad-4c63-a8c6-b31cff960c58",
   "metadata": {
    "tags": []
   },
   "outputs": [
    {
     "data": {
      "text/html": [
       "<pre style=\"word-wrap: normal;white-space: pre;background: #fff0;line-height: 1.1;font-family: &quot;Courier New&quot;,Courier,monospace\">     ┌───┐               \n",
       "q_0: ┤ H ├──■────────────\n",
       "     └───┘┌─┴─┐          \n",
       "q_1: ─────┤ X ├──■───────\n",
       "          └───┘┌─┴─┐     \n",
       "q_2: ──────────┤ X ├──■──\n",
       "               └───┘┌─┴─┐\n",
       "q_3: ───────────────┤ X ├\n",
       "                    └───┘</pre>"
      ],
      "text/plain": [
       "     ┌───┐               \n",
       "q_0: ┤ H ├──■────────────\n",
       "     └───┘┌─┴─┐          \n",
       "q_1: ─────┤ X ├──■───────\n",
       "          └───┘┌─┴─┐     \n",
       "q_2: ──────────┤ X ├──■──\n",
       "               └───┘┌─┴─┐\n",
       "q_3: ───────────────┤ X ├\n",
       "                    └───┘"
      ]
     },
     "execution_count": 2,
     "metadata": {},
     "output_type": "execute_result"
    }
   ],
   "source": [
    "num_qubits = 4\n",
    "#circuit = EfficientSU2(num_qubits=num_qubits, reps=2, entanglement=\"linear\", su2_gates=[\"ry\"])\n",
    "#circuit = circuit.decompose()\n",
    "#params = [(np.pi * i) / 16 for i in range(len(circuit.parameters))]\n",
    "#circuit = circuit.bind_parameters(params)\n",
    "\n",
    "circuit = qiskit.QuantumCircuit(num_qubits)\n",
    "circuit.h(0)\n",
    "for i in range(num_qubits-1):\n",
    "    circuit.cx(i, i+1)\n",
    "\n",
    "circuit.draw(fold=-1)"
   ]
  },
  {
   "cell_type": "code",
   "execution_count": 3,
   "id": "410c7de6-55ba-468c-b339-4764b8d38c08",
   "metadata": {
    "tags": []
   },
   "outputs": [
    {
     "data": {
      "text/plain": [
       "[<Provider: local>]"
      ]
     },
     "execution_count": 3,
     "metadata": {},
     "output_type": "execute_result"
    }
   ],
   "source": [
    "serverless = QuantumServerless()\n",
    "serverless.providers()"
   ]
  },
  {
   "cell_type": "code",
   "execution_count": 5,
   "id": "227618c4-3ff5-46e7-ab11-07b475839f3c",
   "metadata": {
    "tags": []
   },
   "outputs": [
    {
     "name": "stdout",
     "output_type": "stream",
     "text": [
      "Exporting as a LP file to let you check the model that will be solved :  inf <class 'float'>\n",
      "Version identifier: 22.1.0.0 | 2022-03-27 | 54982fbec\n",
      "CPXPARAM_Read_DataCheck                          1\n",
      "CPXPARAM_TimeLimit                               300\n",
      "Warning:  Non-integral bounds for integer variables rounded.\n",
      "Tried aggregator 4 times.\n",
      "MIP Presolve eliminated 39 rows and 11 columns.\n",
      "MIP Presolve modified 13 coefficients.\n",
      "Aggregator did 25 substitutions.\n",
      "All rows and columns eliminated.\n",
      "Presolve time = 0.00 sec. (0.20 ticks)\n",
      "\n",
      "Root node processing (before b&c):\n",
      "  Real time             =    0.00 sec. (0.20 ticks)\n",
      "Parallel b&c, 10 threads:\n",
      "  Real time             =    0.00 sec. (0.00 ticks)\n",
      "  Sync time (average)   =    0.00 sec.\n",
      "  Wait time (average)   =    0.00 sec.\n",
      "                          ------------\n",
      "Total (root+branch&cut) =    0.00 sec. (0.20 ticks)\n",
      "--------------------\n",
      "subcircuit 0\n",
      "ρ qubits = 0, O qubits = 1, width = 2, effective = 1, depth = 2, size = 2\n",
      "     ┌───┐     \n",
      "q_0: ┤ H ├──■──\n",
      "     └───┘┌─┴─┐\n",
      "q_1: ─────┤ X ├\n",
      "          └───┘\n",
      "subcircuit 1\n",
      "ρ qubits = 1, O qubits = 0, width = 3, effective = 3, depth = 2, size = 2\n",
      "               \n",
      "q_0: ──■───────\n",
      "     ┌─┴─┐     \n",
      "q_1: ┤ X ├──■──\n",
      "     └───┘┌─┴─┐\n",
      "q_2: ─────┤ X ├\n",
      "          └───┘\n",
      "Estimated cost = 6.400e+01\n",
      "Model objective value = 1.00e+00\n",
      "MIP runtime: 0.009057998657226562\n",
      "NOT OPTIMAL, MIP gap = 0.0\n",
      "--------------------\n"
     ]
    }
   ],
   "source": [
    "cuts = cut_circuit_wires(\n",
    "    circuit=circuit,\n",
    "    method=\"automatic\",\n",
    "    max_subcircuit_width=3,\n",
    "    max_cuts=1,\n",
    "    num_subcircuits=[2],\n",
    ")"
   ]
  },
  {
   "cell_type": "code",
   "execution_count": 11,
   "id": "3ea6caa1-9d57-4161-a2b1-8ed3e170724f",
   "metadata": {
    "jupyter": {
     "source_hidden": true
    },
    "tags": []
   },
   "outputs": [],
   "source": [
    "with serverless.context():\n",
    "    cuts_future = remote_runtime.cut_circuit_wires_remote(\n",
    "        circuit=circuit,\n",
    "        method=\"automatic\",\n",
    "        max_subcircuit_width=3,\n",
    "        max_cuts=1,\n",
    "        num_subcircuits=[2],\n",
    "    )\n",
    "    \n",
    "    cuts = get(cuts_future)"
   ]
  },
  {
   "cell_type": "code",
   "execution_count": 6,
   "id": "cb9153c1-d355-44dc-ae64-df68c59f17b7",
   "metadata": {
    "tags": []
   },
   "outputs": [
    {
     "data": {
      "text/html": [
       "<pre style=\"word-wrap: normal;white-space: pre;background: #fff0;line-height: 1.1;font-family: &quot;Courier New&quot;,Courier,monospace\">     ┌───┐     \n",
       "q_0: ┤ H ├──■──\n",
       "     └───┘┌─┴─┐\n",
       "q_1: ─────┤ X ├\n",
       "          └───┘</pre>"
      ],
      "text/plain": [
       "     ┌───┐     \n",
       "q_0: ┤ H ├──■──\n",
       "     └───┘┌─┴─┐\n",
       "q_1: ─────┤ X ├\n",
       "          └───┘"
      ]
     },
     "execution_count": 6,
     "metadata": {},
     "output_type": "execute_result"
    }
   ],
   "source": [
    "cuts[\"subcircuits\"][0].draw(fold=-1, scale=0.6)"
   ]
  },
  {
   "cell_type": "code",
   "execution_count": 7,
   "id": "def64073-4548-429a-b20a-e62d1a5c19a8",
   "metadata": {
    "tags": []
   },
   "outputs": [
    {
     "data": {
      "text/html": [
       "<pre style=\"word-wrap: normal;white-space: pre;background: #fff0;line-height: 1.1;font-family: &quot;Courier New&quot;,Courier,monospace\">               \n",
       "q_0: ──■───────\n",
       "     ┌─┴─┐     \n",
       "q_1: ┤ X ├──■──\n",
       "     └───┘┌─┴─┐\n",
       "q_2: ─────┤ X ├\n",
       "          └───┘</pre>"
      ],
      "text/plain": [
       "               \n",
       "q_0: ──■───────\n",
       "     ┌─┴─┐     \n",
       "q_1: ┤ X ├──■──\n",
       "     └───┘┌─┴─┐\n",
       "q_2: ─────┤ X ├\n",
       "          └───┘"
      ]
     },
     "execution_count": 7,
     "metadata": {},
     "output_type": "execute_result"
    }
   ],
   "source": [
    "cuts[\"subcircuits\"][1].draw(fold=-1)"
   ]
  },
  {
   "cell_type": "code",
   "execution_count": 8,
   "id": "6c4b5687-737d-4025-9a9a-3d36c18b2989",
   "metadata": {
    "tags": []
   },
   "outputs": [
    {
     "name": "stdout",
     "output_type": "stream",
     "text": [
      "[<IBMBackend('ibmq_qasm_simulator')>, <IBMBackend('simulator_stabilizer')>, <IBMBackend('simulator_mps')>, <IBMBackend('simulator_extended_stabilizer')>, <IBMBackend('simulator_statevector')>]\n",
      "[<RuntimeProgram('qasm3-runner')>, <RuntimeProgram('hello-world-89yvgl6jG5')>, <RuntimeProgram('hello-world')>, <RuntimeProgram('sampler')>, <RuntimeProgram('estimator')>]\n"
     ]
    }
   ],
   "source": [
    "service = QiskitRuntimeService()\n",
    "print(service.backends())\n",
    "print(service.programs())"
   ]
  },
  {
   "cell_type": "code",
   "execution_count": 9,
   "id": "5846d246-c463-4596-abf9-2a3795236b9b",
   "metadata": {
    "tags": []
   },
   "outputs": [],
   "source": [
    "options = Options(execution={\"shots\":4000})\n",
    "\n",
    "backend_names = [\"ibmq_qasm_simulator\"] * 2"
   ]
  },
  {
   "cell_type": "code",
   "execution_count": 10,
   "id": "b38079fa-b216-4fe6-a97d-c260731a6d3b",
   "metadata": {
    "tags": []
   },
   "outputs": [
    {
     "data": {
      "text/plain": [
       "<IBMBackend('ibmq_qasm_simulator')>"
      ]
     },
     "execution_count": 10,
     "metadata": {},
     "output_type": "execute_result"
    }
   ],
   "source": [
    "service.get_backend(\"ibmq_qasm_simulator\")"
   ]
  },
  {
   "cell_type": "code",
   "execution_count": 11,
   "id": "23598972-c4be-48ae-b160-6b057e8178eb",
   "metadata": {
    "tags": []
   },
   "outputs": [],
   "source": [
    "subcircuit_instance_probabilities = evaluate_subcircuits(\n",
    "    cuts,\n",
    "    service=service,\n",
    "    backend_names=backend_names,\n",
    "    options=options,\n",
    ")"
   ]
  },
  {
   "cell_type": "code",
   "execution_count": null,
   "id": "e8454dbb-cf8c-4dac-ac48-cbc67812fc3d",
   "metadata": {
    "jupyter": {
     "source_hidden": true
    },
    "tags": []
   },
   "outputs": [],
   "source": [
    "with serverless.context():\n",
    "    service_args = service.active_account()\n",
    "    \n",
    "    options_dict = asdict(options)\n",
    "    \n",
    "    subcircuit_probabilities_future = remote_runtime.evaluate_subcircuits_remote(\n",
    "        cuts,\n",
    "        service_args=service_args,\n",
    "        backend_names=backend_names,\n",
    "        options_dict=options_dict,\n",
    "    )\n",
    "    \n",
    "    subcircuit_instance_probabilities = get(subcircuit_probabilities_future)"
   ]
  },
  {
   "cell_type": "code",
   "execution_count": 23,
   "id": "e670ca5e-1f2a-4ca4-adab-9e26fa487679",
   "metadata": {
    "jupyter": {
     "source_hidden": true
    },
    "tags": []
   },
   "outputs": [],
   "source": [
    "with serverless.context():\n",
    "    service_args = service.active_account()\n",
    "    \n",
    "    options_dict = asdict(options)\n",
    "    \n",
    "    subcircuit_probabilities_future = remote_runtime.evaluate_subcircuits_remote(\n",
    "        cuts,\n",
    "        service_args=service_args,\n",
    "        backend_names=backend_names,\n",
    "        options_dict=options_dict,\n",
    "    )\n",
    "    \n",
    "    subcircuit_instance_probabilities = get(subcircuit_probabilities_future)"
   ]
  },
  {
   "cell_type": "code",
   "execution_count": 13,
   "id": "0bfff448-09ce-4488-98b5-a0c57d9ad31b",
   "metadata": {
    "tags": []
   },
   "outputs": [
    {
     "data": {
      "text/plain": [
       "{0: {0: array([0.5045, 0.4955]),\n",
       "  3: array([ 0.5045, -0.4955]),\n",
       "  1: array([-0.00225, -0.00575]),\n",
       "  2: array([-0.00925,  0.01175])},\n",
       " 1: {0: array([1., 0., 0., 0., 0., 0., 0., 0.]),\n",
       "  1: array([0., 0., 0., 0., 0., 0., 0., 1.]),\n",
       "  2: array([0.4965, 0.    , 0.    , 0.    , 0.    , 0.    , 0.    , 0.5035]),\n",
       "  3: array([0.501, 0.   , 0.   , 0.   , 0.   , 0.   , 0.   , 0.499])}}"
      ]
     },
     "execution_count": 13,
     "metadata": {},
     "output_type": "execute_result"
    }
   ],
   "source": [
    "subcircuit_instance_probabilities"
   ]
  },
  {
   "cell_type": "code",
   "execution_count": 14,
   "id": "95dc79c0-816e-4132-b9a3-5883467bdf94",
   "metadata": {
    "tags": []
   },
   "outputs": [],
   "source": [
    "reconstructed_probabilities = reconstruct_full_distribution(\n",
    "    circuit,\n",
    "    subcircuit_instance_probabilities,\n",
    "    cuts,\n",
    "    num_threads=2\n",
    ")"
   ]
  },
  {
   "cell_type": "code",
   "execution_count": 25,
   "id": "761eccf4-a959-4fbd-822e-e45e47f012bc",
   "metadata": {
    "collapsed": true,
    "jupyter": {
     "outputs_hidden": true,
     "source_hidden": true
    },
    "tags": []
   },
   "outputs": [
    {
     "name": "stderr",
     "output_type": "stream",
     "text": [
      "\u001b[2m\u001b[36m(reconstruct_full_distribution_remote pid=41639)\u001b[0m Exception ignored in: <module 'threading' from '/usr/local/Cellar/python@3.10/3.10.9/Frameworks/Python.framework/Versions/3.10/lib/python3.10/threading.py'>\n",
      "\u001b[2m\u001b[36m(reconstruct_full_distribution_remote pid=41639)\u001b[0m Traceback (most recent call last):\n",
      "\u001b[2m\u001b[36m(reconstruct_full_distribution_remote pid=41639)\u001b[0m   File \"/usr/local/Cellar/python@3.10/3.10.9/Frameworks/Python.framework/Versions/3.10/lib/python3.10/threading.py\", line 1518, in _shutdown\n",
      "\u001b[2m\u001b[36m(reconstruct_full_distribution_remote pid=41639)\u001b[0m     def _shutdown():\n",
      "\u001b[2m\u001b[36m(reconstruct_full_distribution_remote pid=41639)\u001b[0m   File \"/Users/teague/Workspace/python-environments/runtime-env/lib/python3.10/site-packages/ray/_private/worker.py\", line 1655, in sigterm_handler\n",
      "\u001b[2m\u001b[36m(reconstruct_full_distribution_remote pid=41639)\u001b[0m     sys.exit(signum)\n",
      "\u001b[2m\u001b[36m(reconstruct_full_distribution_remote pid=41639)\u001b[0m SystemExit: 15\n"
     ]
    }
   ],
   "source": [
    "with serverless.context():\n",
    "    reconstructed_probabilities_future = remote_runtime.reconstruct_full_distribution_remote(\n",
    "        circuit,\n",
    "        subcircuit_instance_probabilities,\n",
    "        cuts,\n",
    "    )\n",
    "    \n",
    "    reconstructed_probabilities = get(reconstructed_probabilities_future)"
   ]
  },
  {
   "cell_type": "code",
   "execution_count": 15,
   "id": "2967b5b4-0ead-45de-a92c-70d365a58135",
   "metadata": {
    "tags": []
   },
   "outputs": [
    {
     "data": {
      "text/plain": [
       "array([5.04498625e-01, 3.18750000e-05, 0.00000000e+00, 0.00000000e+00,\n",
       "       0.00000000e+00, 0.00000000e+00, 0.00000000e+00, 0.00000000e+00,\n",
       "       0.00000000e+00, 0.00000000e+00, 0.00000000e+00, 0.00000000e+00,\n",
       "       0.00000000e+00, 0.00000000e+00, 1.37500000e-06, 4.95468125e-01])"
      ]
     },
     "execution_count": 15,
     "metadata": {},
     "output_type": "execute_result"
    }
   ],
   "source": [
    "reconstructed_probabilities"
   ]
  },
  {
   "cell_type": "code",
   "execution_count": 16,
   "id": "3a1b2704-8f33-43d0-9880-20cdde797517",
   "metadata": {
    "tags": []
   },
   "outputs": [],
   "source": [
    "metrics, exact_probabilities = verify(circuit, reconstructed_probabilities)"
   ]
  },
  {
   "cell_type": "code",
   "execution_count": 17,
   "id": "8b387958-a33b-4daf-8064-028efed15b90",
   "metadata": {
    "tags": []
   },
   "outputs": [
    {
     "data": {
      "text/plain": [
       "{'nearest': {'chi2': 7.402838301942975e-05,\n",
       "  'Mean Squared Error': 2.5485334882810605e-06,\n",
       "  'Mean Absolute Percentage Error': 2078125000002.6252,\n",
       "  'Cross Entropy': 0.6932212104524438,\n",
       "  'HOP': 0.9999667499999998},\n",
       " 'naive': {'chi2': 7.402838301943025e-05,\n",
       "  'Mean Squared Error': 2.548533488281092e-06,\n",
       "  'Mean Absolute Percentage Error': 2078125000002.6252,\n",
       "  'Cross Entropy': 0.6932212104524436,\n",
       "  'HOP': 0.99996675}}"
      ]
     },
     "execution_count": 17,
     "metadata": {},
     "output_type": "execute_result"
    }
   ],
   "source": [
    "metrics"
   ]
  },
  {
   "cell_type": "code",
   "execution_count": 18,
   "id": "eb294328-4996-4a5b-976d-6ffe3fcdeb58",
   "metadata": {
    "tags": []
   },
   "outputs": [
    {
     "data": {
      "image/png": "[encoded data removed]",
      "text/plain": [
       "<Figure size 1600x600 with 1 Axes>"
      ]
     },
     "execution_count": 18,
     "metadata": {},
     "output_type": "execute_result"
    }
   ],
   "source": [
    "# Create a dict for the reconstructed distribution\n",
    "reconstructed_distribution = {\n",
    "    i: prob for i, prob in enumerate(reconstructed_probabilities)\n",
    "}\n",
    "\n",
    "# Represent states as bitstrings (instead of ints)\n",
    "\n",
    "reconstructed_dict_bitstring = qiskit.result.ProbDistribution(\n",
    "    data=reconstructed_distribution\n",
    ").binary_probabilities(num_bits=num_qubits)\n",
    "\n",
    "\n",
    "# Create the ground truth distribution dict\n",
    "exact_distribution = {i: prob for i, prob in enumerate(exact_probabilities)}\n",
    "\n",
    "# Represent states as bitstrings (instead of ints)\n",
    "exact_dict_bitstring = qiskit.result.ProbDistribution(data=exact_distribution).binary_probabilities(\n",
    "    num_bits=num_qubits\n",
    ")\n",
    "\n",
    "# plot a histogram of the distributions\n",
    "qiskit.visualization.plot_histogram(\n",
    "    [exact_dict_bitstring, reconstructed_dict_bitstring],\n",
    "    number_to_keep=8,\n",
    "    figsize=(16, 6),\n",
    "    sort=\"asc\",\n",
    "    legend=[\"Exact\", \"Reconstructed\"],\n",
    ")"
   ]
  },
  {
   "cell_type": "markdown",
   "id": "594138ec-f80d-4d4f-9288-2a273ad31d22",
   "metadata": {},
   "source": [
    "## Noisy simulation"
   ]
  },
  {
   "cell_type": "code",
   "execution_count": 28,
   "id": "ca909993-c97e-41a4-8e56-fe77cf61861d",
   "metadata": {
    "tags": []
   },
   "outputs": [],
   "source": [
    "sim_options = SimulatorOptions(\n",
    "    noise_model=my_noise_models.get_pauli_noise_func(p_Xerr=0.01, p_Zerr=0.01, p_Yerr=0.01),\n",
    "    basis_gates=['u1', 'u2', 'u3', 'cx'],\n",
    ")"
   ]
  },
  {
   "cell_type": "code",
   "execution_count": 29,
   "id": "adec9ac5-d861-43f5-9613-c6053a0fdca8",
   "metadata": {
    "tags": []
   },
   "outputs": [],
   "source": [
    "options = Options(execution={\"shots\":4000}, simulator=sim_options)\n",
    "\n",
    "backend_names = [\"ibmq_qasm_simulator\"] * 2"
   ]
  },
  {
   "cell_type": "code",
   "execution_count": 30,
   "id": "9ad44844-521b-4693-bd68-04662f498580",
   "metadata": {
    "tags": []
   },
   "outputs": [],
   "source": [
    "subcircuit_instance_probabilities = evaluate_subcircuits(\n",
    "    cuts,\n",
    "    service=service,\n",
    "    backend_names=backend_names,\n",
    "    options=options,\n",
    ")"
   ]
  },
  {
   "cell_type": "code",
   "execution_count": 25,
   "id": "cad0b9ed-242c-4764-a02b-db149e880fed",
   "metadata": {
    "jupyter": {
     "source_hidden": true
    },
    "tags": []
   },
   "outputs": [],
   "source": [
    "with serverless.context():\n",
    "    service_args = service.active_account()\n",
    "    \n",
    "    options_dict = asdict(options)\n",
    "    \n",
    "    subcircuit_probabilities_future = evaluate_subcircuits_remote(\n",
    "        cuts,\n",
    "        service_args=service_args,\n",
    "        backend_names=backend_names,\n",
    "        options_dict=options_dict,\n",
    "    )\n",
    "    \n",
    "    subcircuit_instance_probabilities = get(subcircuit_probabilities_future)"
   ]
  },
  {
   "cell_type": "code",
   "execution_count": 31,
   "id": "7c6c004e-b0fe-4bc8-a122-1c516eac5a68",
   "metadata": {
    "tags": []
   },
   "outputs": [
    {
     "data": {
      "text/plain": [
       "{0: {0: array([0.51, 0.49]),\n",
       "  3: array([ 0.4685, -0.458 ]),\n",
       "  1: array([0.0295, 0.007 ]),\n",
       "  2: array([ 0.00375, -0.01725])},\n",
       " 1: {0: array([9.210e-01, 1.650e-02, 1.750e-02, 2.500e-04, 2.275e-02, 5.000e-04,\n",
       "         2.125e-02, 2.500e-04]),\n",
       "  1: array([2.075e-02, 1.525e-02, 5.000e-04, 1.950e-02, 2.500e-04, 1.575e-02,\n",
       "         1.550e-02, 9.125e-01]),\n",
       "  2: array([0.472  , 0.01775, 0.01075, 0.01   , 0.00925, 0.01025, 0.018  ,\n",
       "         0.452  ]),\n",
       "  3: array([0.445  , 0.0215 , 0.011  , 0.0095 , 0.01075, 0.0105 , 0.019  ,\n",
       "         0.47275])}}"
      ]
     },
     "execution_count": 31,
     "metadata": {},
     "output_type": "execute_result"
    }
   ],
   "source": [
    "subcircuit_instance_probabilities"
   ]
  },
  {
   "cell_type": "code",
   "execution_count": 32,
   "id": "7f110cf4-fa59-4f5f-b463-b6e764cf823f",
   "metadata": {
    "tags": []
   },
   "outputs": [],
   "source": [
    "reconstructed_probabilities = reconstruct_full_distribution(\n",
    "    circuit,\n",
    "    subcircuit_instance_probabilities,\n",
    "    cuts,\n",
    "    num_threads=2\n",
    ")"
   ]
  },
  {
   "cell_type": "code",
   "execution_count": 48,
   "id": "1680124f-6a2e-48bc-bf0d-860ef702d1f0",
   "metadata": {
    "collapsed": true,
    "jupyter": {
     "outputs_hidden": true,
     "source_hidden": true
    },
    "tags": []
   },
   "outputs": [
    {
     "name": "stderr",
     "output_type": "stream",
     "text": [
      "\u001b[2m\u001b[36m(reconstruct_full_distribution_remote pid=42951)\u001b[0m Exception ignored in: <module 'threading' from '/usr/local/Cellar/python@3.10/3.10.9/Frameworks/Python.framework/Versions/3.10/lib/python3.10/threading.py'>\n",
      "\u001b[2m\u001b[36m(reconstruct_full_distribution_remote pid=42951)\u001b[0m Traceback (most recent call last):\n",
      "\u001b[2m\u001b[36m(reconstruct_full_distribution_remote pid=42951)\u001b[0m   File \"/usr/local/Cellar/python@3.10/3.10.9/Frameworks/Python.framework/Versions/3.10/lib/python3.10/threading.py\", line 1518, in _shutdown\n",
      "\u001b[2m\u001b[36m(reconstruct_full_distribution_remote pid=42951)\u001b[0m     def _shutdown():\n",
      "\u001b[2m\u001b[36m(reconstruct_full_distribution_remote pid=42951)\u001b[0m   File \"/Users/teague/Workspace/python-environments/runtime-env/lib/python3.10/site-packages/ray/_private/worker.py\", line 1655, in sigterm_handler\n",
      "\u001b[2m\u001b[36m(reconstruct_full_distribution_remote pid=42951)\u001b[0m     sys.exit(signum)\n",
      "\u001b[2m\u001b[36m(reconstruct_full_distribution_remote pid=42951)\u001b[0m SystemExit: 15\n"
     ]
    }
   ],
   "source": [
    "with serverless.context():\n",
    "    reconstructed_probabilities_future = reconstruct_full_distribution_remote(\n",
    "        circuit,\n",
    "        subcircuit_instance_probabilities,\n",
    "        cuts,\n",
    "    )\n",
    "    \n",
    "    reconstructed_probabilities = get(reconstructed_probabilities_future)"
   ]
  },
  {
   "cell_type": "code",
   "execution_count": 33,
   "id": "a08b12a7-5f40-44f9-b55e-5228f292eee5",
   "metadata": {
    "tags": []
   },
   "outputs": [
    {
     "data": {
      "text/plain": [
       "{0: {0: array([0.51, 0.49]),\n",
       "  3: array([ 0.4685, -0.458 ]),\n",
       "  1: array([0.0295, 0.007 ]),\n",
       "  2: array([ 0.00375, -0.01725])},\n",
       " 1: {0: array([9.210e-01, 1.650e-02, 1.750e-02, 2.500e-04, 2.275e-02, 5.000e-04,\n",
       "         2.125e-02, 2.500e-04]),\n",
       "  1: array([2.075e-02, 1.525e-02, 5.000e-04, 1.950e-02, 2.500e-04, 1.575e-02,\n",
       "         1.550e-02, 9.125e-01]),\n",
       "  2: array([0.472  , 0.01775, 0.01075, 0.01   , 0.00925, 0.01025, 0.018  ,\n",
       "         0.452  ]),\n",
       "  3: array([0.445  , 0.0215 , 0.011  , 0.0095 , 0.01075, 0.0105 , 0.019  ,\n",
       "         0.47275])}}"
      ]
     },
     "execution_count": 33,
     "metadata": {},
     "output_type": "execute_result"
    }
   ],
   "source": [
    "subcircuit_instance_probabilities"
   ]
  },
  {
   "cell_type": "code",
   "execution_count": 34,
   "id": "08b94ec1-2e60-48d4-92cb-34d805e96826",
   "metadata": {
    "tags": []
   },
   "outputs": [],
   "source": [
    "metrics, exact_probabilities = verify(circuit, reconstructed_probabilities)"
   ]
  },
  {
   "cell_type": "code",
   "execution_count": 35,
   "id": "5a63eea5-1f6a-4b8b-a5cd-607590ff0233",
   "metadata": {
    "tags": []
   },
   "outputs": [
    {
     "data": {
      "text/plain": [
       "{'nearest': {'chi2': 0.12427521040243732,\n",
       "  'Mean Squared Error': 0.0005390787205075682,\n",
       "  'Mean Absolute Percentage Error': 7301132812500002.0,\n",
       "  'Cross Entropy': 0.8175967161227069,\n",
       "  'HOP': 0.883181875},\n",
       " 'naive': {'chi2': 0.12427521040243732,\n",
       "  'Mean Squared Error': 0.0005390787205075682,\n",
       "  'Mean Absolute Percentage Error': 7301132812500002.0,\n",
       "  'Cross Entropy': 0.8175967161227069,\n",
       "  'HOP': 0.883181875}}"
      ]
     },
     "execution_count": 35,
     "metadata": {},
     "output_type": "execute_result"
    }
   ],
   "source": [
    "metrics"
   ]
  },
  {
   "cell_type": "code",
   "execution_count": 36,
   "id": "00b99ab4-8a56-4063-ac46-dca91e05045e",
   "metadata": {
    "tags": []
   },
   "outputs": [
    {
     "data": {
      "image/png": "[encoded data removed]",
      "text/plain": [
       "<Figure size 1600x600 with 1 Axes>"
      ]
     },
     "execution_count": 36,
     "metadata": {},
     "output_type": "execute_result"
    }
   ],
   "source": [
    "# Create a dict for the reconstructed distribution\n",
    "reconstructed_distribution = {\n",
    "    i: prob for i, prob in enumerate(reconstructed_probabilities)\n",
    "}\n",
    "\n",
    "# Represent states as bitstrings (instead of ints)\n",
    "\n",
    "reconstructed_dict_bitstring = qiskit.result.ProbDistribution(\n",
    "    data=reconstructed_distribution\n",
    ").binary_probabilities(num_bits=num_qubits)\n",
    "\n",
    "\n",
    "# Create the ground truth distribution dict\n",
    "exact_distribution = {i: prob for i, prob in enumerate(exact_probabilities)}\n",
    "\n",
    "# Represent states as bitstrings (instead of ints)\n",
    "exact_dict_bitstring = qiskit.result.ProbDistribution(data=exact_distribution).binary_probabilities(\n",
    "    num_bits=num_qubits\n",
    ")\n",
    "\n",
    "# plot a histogram of the distributions\n",
    "qiskit.visualization.plot_histogram(\n",
    "    [exact_dict_bitstring, reconstructed_dict_bitstring],\n",
    "    number_to_keep=8,\n",
    "    figsize=(16, 6),\n",
    "    sort=\"asc\",\n",
    "    legend=[\"Exact\", \"Reconstructed\"],\n",
    ")"
   ]
  },
  {
   "cell_type": "code",
   "execution_count": null,
   "id": "eec67c46-e309-43b5-90d1-6366714c8eaf",
   "metadata": {},
   "outputs": [],
   "source": []
  }
 ],
 "metadata": {
  "kernelspec": {
   "display_name": "Python 3 (ipykernel)",
   "language": "python",
   "name": "python3"
  },
  "language_info": {
   "codemirror_mode": {
    "name": "ipython",
    "version": 3
   },
   "file_extension": ".py",
   "mimetype": "text/x-python",
   "name": "python",
   "nbconvert_exporter": "python",
   "pygments_lexer": "ipython3",
   "version": "3.10.9"
  }
 },
 "nbformat": 4,
 "nbformat_minor": 5
}
